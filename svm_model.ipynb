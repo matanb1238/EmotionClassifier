{
  "nbformat": 4,
  "nbformat_minor": 0,
  "metadata": {
    "colab": {
      "provenance": [],
      "collapsed_sections": [
        "osr5h_aAwNOI"
      ],
      "gpuType": "V28",
      "authorship_tag": "ABX9TyP5owA0XmKnifF3JOJk1/eu",
      "include_colab_link": true
    },
    "kernelspec": {
      "name": "python3",
      "display_name": "Python 3"
    },
    "language_info": {
      "name": "python"
    },
    "accelerator": "TPU"
  },
  "cells": [
    {
      "cell_type": "markdown",
      "metadata": {
        "id": "view-in-github",
        "colab_type": "text"
      },
      "source": [
        "<a href=\"https://colab.research.google.com/github/matanb1238/EmotionClassifier/blob/main/svm_model.ipynb\" target=\"_parent\"><img src=\"https://colab.research.google.com/assets/colab-badge.svg\" alt=\"Open In Colab\"/></a>"
      ]
    },
    {
      "cell_type": "markdown",
      "source": [
        "# Emotion Classification from Tweets\n",
        "University Machine Learning Project  \n",
        "**Authors**: [Your Name], [Partner's Name]  \n",
        "**Dataset**: [Emotions Dataset - Twitter, ~400K rows]  \n",
        "**Goal**: Understand and classify emotional content in tweets"
      ],
      "metadata": {
        "id": "sozS_yZjve6-"
      }
    },
    {
      "cell_type": "markdown",
      "source": [
        "## Table of Contents\n",
        "1. [Dataset Overview](#dataset-overview)\n",
        "2. [Data Cleaning](#data-cleaning)\n",
        "3. [Exploratory Data Analysis (EDA)](#exploratory-data-analysis)\n",
        "4. [Feature Extraction: TF-IDF](#feature-extraction)\n",
        "5. [Model 1: Support Vector Machine (SVM)](#svm)\n",
        "6. [Model Comparison](#model-comparison)\n",
        "7. [Conclusion and Discussion](#conclusion)\n"
      ],
      "metadata": {
        "id": "dHRO4qglv6nU"
      }
    },
    {
      "cell_type": "markdown",
      "source": [
        "## 1. Dataset Overview <a name=\"dataset-overview\"></a>\n",
        "\n",
        "In this section, we load the dataset and explore its basic structure.  \n",
        "We check column names, sample entries, and class distribution."
      ],
      "metadata": {
        "id": "Lq1db9O0wGao"
      }
    },
    {
      "cell_type": "code",
      "execution_count": 4,
      "metadata": {
        "colab": {
          "base_uri": "https://localhost:8080/",
          "height": 223
        },
        "id": "_Nb-nRJrsKC9",
        "outputId": "b13e2514-39e1-4341-f3cc-3c2453f42396"
      },
      "outputs": [
        {
          "output_type": "stream",
          "name": "stdout",
          "text": [
            "Rows count: 39154\n"
          ]
        },
        {
          "output_type": "execute_result",
          "data": {
            "text/plain": [
              "   Unnamed: 0                                               text  label\n",
              "0           0      i just feel really helpless and heavy hearted    4.0\n",
              "1           1  ive enjoyed being able to slouch about relax a...    0.0\n",
              "2           2  i gave up my internship with the dmrg and am f...    4.0\n",
              "3           3                         i dont know i feel so lost    0.0\n",
              "4           4  i am a kindergarten teacher and i am thoroughl...    4.0"
            ],
            "text/html": [
              "\n",
              "  <div id=\"df-1223e455-568d-4297-92ce-a06bab513111\" class=\"colab-df-container\">\n",
              "    <div>\n",
              "<style scoped>\n",
              "    .dataframe tbody tr th:only-of-type {\n",
              "        vertical-align: middle;\n",
              "    }\n",
              "\n",
              "    .dataframe tbody tr th {\n",
              "        vertical-align: top;\n",
              "    }\n",
              "\n",
              "    .dataframe thead th {\n",
              "        text-align: right;\n",
              "    }\n",
              "</style>\n",
              "<table border=\"1\" class=\"dataframe\">\n",
              "  <thead>\n",
              "    <tr style=\"text-align: right;\">\n",
              "      <th></th>\n",
              "      <th>Unnamed: 0</th>\n",
              "      <th>text</th>\n",
              "      <th>label</th>\n",
              "    </tr>\n",
              "  </thead>\n",
              "  <tbody>\n",
              "    <tr>\n",
              "      <th>0</th>\n",
              "      <td>0</td>\n",
              "      <td>i just feel really helpless and heavy hearted</td>\n",
              "      <td>4.0</td>\n",
              "    </tr>\n",
              "    <tr>\n",
              "      <th>1</th>\n",
              "      <td>1</td>\n",
              "      <td>ive enjoyed being able to slouch about relax a...</td>\n",
              "      <td>0.0</td>\n",
              "    </tr>\n",
              "    <tr>\n",
              "      <th>2</th>\n",
              "      <td>2</td>\n",
              "      <td>i gave up my internship with the dmrg and am f...</td>\n",
              "      <td>4.0</td>\n",
              "    </tr>\n",
              "    <tr>\n",
              "      <th>3</th>\n",
              "      <td>3</td>\n",
              "      <td>i dont know i feel so lost</td>\n",
              "      <td>0.0</td>\n",
              "    </tr>\n",
              "    <tr>\n",
              "      <th>4</th>\n",
              "      <td>4</td>\n",
              "      <td>i am a kindergarten teacher and i am thoroughl...</td>\n",
              "      <td>4.0</td>\n",
              "    </tr>\n",
              "  </tbody>\n",
              "</table>\n",
              "</div>\n",
              "    <div class=\"colab-df-buttons\">\n",
              "\n",
              "  <div class=\"colab-df-container\">\n",
              "    <button class=\"colab-df-convert\" onclick=\"convertToInteractive('df-1223e455-568d-4297-92ce-a06bab513111')\"\n",
              "            title=\"Convert this dataframe to an interactive table.\"\n",
              "            style=\"display:none;\">\n",
              "\n",
              "  <svg xmlns=\"http://www.w3.org/2000/svg\" height=\"24px\" viewBox=\"0 -960 960 960\">\n",
              "    <path d=\"M120-120v-720h720v720H120Zm60-500h600v-160H180v160Zm220 220h160v-160H400v160Zm0 220h160v-160H400v160ZM180-400h160v-160H180v160Zm440 0h160v-160H620v160ZM180-180h160v-160H180v160Zm440 0h160v-160H620v160Z\"/>\n",
              "  </svg>\n",
              "    </button>\n",
              "\n",
              "  <style>\n",
              "    .colab-df-container {\n",
              "      display:flex;\n",
              "      gap: 12px;\n",
              "    }\n",
              "\n",
              "    .colab-df-convert {\n",
              "      background-color: #E8F0FE;\n",
              "      border: none;\n",
              "      border-radius: 50%;\n",
              "      cursor: pointer;\n",
              "      display: none;\n",
              "      fill: #1967D2;\n",
              "      height: 32px;\n",
              "      padding: 0 0 0 0;\n",
              "      width: 32px;\n",
              "    }\n",
              "\n",
              "    .colab-df-convert:hover {\n",
              "      background-color: #E2EBFA;\n",
              "      box-shadow: 0px 1px 2px rgba(60, 64, 67, 0.3), 0px 1px 3px 1px rgba(60, 64, 67, 0.15);\n",
              "      fill: #174EA6;\n",
              "    }\n",
              "\n",
              "    .colab-df-buttons div {\n",
              "      margin-bottom: 4px;\n",
              "    }\n",
              "\n",
              "    [theme=dark] .colab-df-convert {\n",
              "      background-color: #3B4455;\n",
              "      fill: #D2E3FC;\n",
              "    }\n",
              "\n",
              "    [theme=dark] .colab-df-convert:hover {\n",
              "      background-color: #434B5C;\n",
              "      box-shadow: 0px 1px 3px 1px rgba(0, 0, 0, 0.15);\n",
              "      filter: drop-shadow(0px 1px 2px rgba(0, 0, 0, 0.3));\n",
              "      fill: #FFFFFF;\n",
              "    }\n",
              "  </style>\n",
              "\n",
              "    <script>\n",
              "      const buttonEl =\n",
              "        document.querySelector('#df-1223e455-568d-4297-92ce-a06bab513111 button.colab-df-convert');\n",
              "      buttonEl.style.display =\n",
              "        google.colab.kernel.accessAllowed ? 'block' : 'none';\n",
              "\n",
              "      async function convertToInteractive(key) {\n",
              "        const element = document.querySelector('#df-1223e455-568d-4297-92ce-a06bab513111');\n",
              "        const dataTable =\n",
              "          await google.colab.kernel.invokeFunction('convertToInteractive',\n",
              "                                                    [key], {});\n",
              "        if (!dataTable) return;\n",
              "\n",
              "        const docLinkHtml = 'Like what you see? Visit the ' +\n",
              "          '<a target=\"_blank\" href=https://colab.research.google.com/notebooks/data_table.ipynb>data table notebook</a>'\n",
              "          + ' to learn more about interactive tables.';\n",
              "        element.innerHTML = '';\n",
              "        dataTable['output_type'] = 'display_data';\n",
              "        await google.colab.output.renderOutput(dataTable, element);\n",
              "        const docLink = document.createElement('div');\n",
              "        docLink.innerHTML = docLinkHtml;\n",
              "        element.appendChild(docLink);\n",
              "      }\n",
              "    </script>\n",
              "  </div>\n",
              "\n",
              "\n",
              "    <div id=\"df-9b9b8644-5aca-472a-ad9f-1afe1e5169ef\">\n",
              "      <button class=\"colab-df-quickchart\" onclick=\"quickchart('df-9b9b8644-5aca-472a-ad9f-1afe1e5169ef')\"\n",
              "                title=\"Suggest charts\"\n",
              "                style=\"display:none;\">\n",
              "\n",
              "<svg xmlns=\"http://www.w3.org/2000/svg\" height=\"24px\"viewBox=\"0 0 24 24\"\n",
              "     width=\"24px\">\n",
              "    <g>\n",
              "        <path d=\"M19 3H5c-1.1 0-2 .9-2 2v14c0 1.1.9 2 2 2h14c1.1 0 2-.9 2-2V5c0-1.1-.9-2-2-2zM9 17H7v-7h2v7zm4 0h-2V7h2v10zm4 0h-2v-4h2v4z\"/>\n",
              "    </g>\n",
              "</svg>\n",
              "      </button>\n",
              "\n",
              "<style>\n",
              "  .colab-df-quickchart {\n",
              "      --bg-color: #E8F0FE;\n",
              "      --fill-color: #1967D2;\n",
              "      --hover-bg-color: #E2EBFA;\n",
              "      --hover-fill-color: #174EA6;\n",
              "      --disabled-fill-color: #AAA;\n",
              "      --disabled-bg-color: #DDD;\n",
              "  }\n",
              "\n",
              "  [theme=dark] .colab-df-quickchart {\n",
              "      --bg-color: #3B4455;\n",
              "      --fill-color: #D2E3FC;\n",
              "      --hover-bg-color: #434B5C;\n",
              "      --hover-fill-color: #FFFFFF;\n",
              "      --disabled-bg-color: #3B4455;\n",
              "      --disabled-fill-color: #666;\n",
              "  }\n",
              "\n",
              "  .colab-df-quickchart {\n",
              "    background-color: var(--bg-color);\n",
              "    border: none;\n",
              "    border-radius: 50%;\n",
              "    cursor: pointer;\n",
              "    display: none;\n",
              "    fill: var(--fill-color);\n",
              "    height: 32px;\n",
              "    padding: 0;\n",
              "    width: 32px;\n",
              "  }\n",
              "\n",
              "  .colab-df-quickchart:hover {\n",
              "    background-color: var(--hover-bg-color);\n",
              "    box-shadow: 0 1px 2px rgba(60, 64, 67, 0.3), 0 1px 3px 1px rgba(60, 64, 67, 0.15);\n",
              "    fill: var(--button-hover-fill-color);\n",
              "  }\n",
              "\n",
              "  .colab-df-quickchart-complete:disabled,\n",
              "  .colab-df-quickchart-complete:disabled:hover {\n",
              "    background-color: var(--disabled-bg-color);\n",
              "    fill: var(--disabled-fill-color);\n",
              "    box-shadow: none;\n",
              "  }\n",
              "\n",
              "  .colab-df-spinner {\n",
              "    border: 2px solid var(--fill-color);\n",
              "    border-color: transparent;\n",
              "    border-bottom-color: var(--fill-color);\n",
              "    animation:\n",
              "      spin 1s steps(1) infinite;\n",
              "  }\n",
              "\n",
              "  @keyframes spin {\n",
              "    0% {\n",
              "      border-color: transparent;\n",
              "      border-bottom-color: var(--fill-color);\n",
              "      border-left-color: var(--fill-color);\n",
              "    }\n",
              "    20% {\n",
              "      border-color: transparent;\n",
              "      border-left-color: var(--fill-color);\n",
              "      border-top-color: var(--fill-color);\n",
              "    }\n",
              "    30% {\n",
              "      border-color: transparent;\n",
              "      border-left-color: var(--fill-color);\n",
              "      border-top-color: var(--fill-color);\n",
              "      border-right-color: var(--fill-color);\n",
              "    }\n",
              "    40% {\n",
              "      border-color: transparent;\n",
              "      border-right-color: var(--fill-color);\n",
              "      border-top-color: var(--fill-color);\n",
              "    }\n",
              "    60% {\n",
              "      border-color: transparent;\n",
              "      border-right-color: var(--fill-color);\n",
              "    }\n",
              "    80% {\n",
              "      border-color: transparent;\n",
              "      border-right-color: var(--fill-color);\n",
              "      border-bottom-color: var(--fill-color);\n",
              "    }\n",
              "    90% {\n",
              "      border-color: transparent;\n",
              "      border-bottom-color: var(--fill-color);\n",
              "    }\n",
              "  }\n",
              "</style>\n",
              "\n",
              "      <script>\n",
              "        async function quickchart(key) {\n",
              "          const quickchartButtonEl =\n",
              "            document.querySelector('#' + key + ' button');\n",
              "          quickchartButtonEl.disabled = true;  // To prevent multiple clicks.\n",
              "          quickchartButtonEl.classList.add('colab-df-spinner');\n",
              "          try {\n",
              "            const charts = await google.colab.kernel.invokeFunction(\n",
              "                'suggestCharts', [key], {});\n",
              "          } catch (error) {\n",
              "            console.error('Error during call to suggestCharts:', error);\n",
              "          }\n",
              "          quickchartButtonEl.classList.remove('colab-df-spinner');\n",
              "          quickchartButtonEl.classList.add('colab-df-quickchart-complete');\n",
              "        }\n",
              "        (() => {\n",
              "          let quickchartButtonEl =\n",
              "            document.querySelector('#df-9b9b8644-5aca-472a-ad9f-1afe1e5169ef button');\n",
              "          quickchartButtonEl.style.display =\n",
              "            google.colab.kernel.accessAllowed ? 'block' : 'none';\n",
              "        })();\n",
              "      </script>\n",
              "    </div>\n",
              "\n",
              "    </div>\n",
              "  </div>\n"
            ],
            "application/vnd.google.colaboratory.intrinsic+json": {
              "type": "dataframe",
              "variable_name": "df",
              "summary": "{\n  \"name\": \"df\",\n  \"rows\": 39154,\n  \"fields\": [\n    {\n      \"column\": \"Unnamed: 0\",\n      \"properties\": {\n        \"dtype\": \"number\",\n        \"std\": 11302,\n        \"min\": 0,\n        \"max\": 39153,\n        \"num_unique_values\": 39154,\n        \"samples\": [\n          5657,\n          2133,\n          12114\n        ],\n        \"semantic_type\": \"\",\n        \"description\": \"\"\n      }\n    },\n    {\n      \"column\": \"text\",\n      \"properties\": {\n        \"dtype\": \"string\",\n        \"num_unique_values\": 38937,\n        \"samples\": [\n          \"i get i also feel special not retarded when am there\",\n          \"i have a feeling that many tolkien purists will be dissatisfied with the film\",\n          \"i belonged but there is a difference between feeling like youre accepted and you belong and feeling like youre each others people\"\n        ],\n        \"semantic_type\": \"\",\n        \"description\": \"\"\n      }\n    },\n    {\n      \"column\": \"label\",\n      \"properties\": {\n        \"dtype\": \"number\",\n        \"std\": 1.4939576401833066,\n        \"min\": 0.0,\n        \"max\": 5.0,\n        \"num_unique_values\": 6,\n        \"samples\": [\n          4.0,\n          0.0,\n          3.0\n        ],\n        \"semantic_type\": \"\",\n        \"description\": \"\"\n      }\n    }\n  ]\n}"
            }
          },
          "metadata": {},
          "execution_count": 4
        }
      ],
      "source": [
        "import pandas as pd\n",
        "\n",
        "# File load\n",
        "df = pd.read_csv('text.csv')\n",
        "\n",
        "# Checking rows count and the head\n",
        "print(f\"Rows count: {len(df)}\")\n",
        "df.head()"
      ]
    },
    {
      "cell_type": "markdown",
      "source": [
        "## 2. Data Cleaning <a name=\"data-cleaning\"></a>\n",
        "\n",
        "We remove missing values and empty texts to prepare the data for analysis.  \n",
        "This ensures that our models will not be affected by noise or null inputs."
      ],
      "metadata": {
        "id": "osr5h_aAwNOI"
      }
    },
    {
      "cell_type": "code",
      "source": [
        "# Check if column names are correct\n",
        "print(\"Columns:\", df.columns)\n",
        "\n",
        "# Check for missing values in the dataset\n",
        "print(\"Missing values per column:\")\n",
        "print(df.isnull().sum())\n",
        "\n",
        "# Remove rows with missing values\n",
        "df = df.dropna()\n",
        "\n",
        "# Remove empty texts (even if not NaN)\n",
        "df = df[df['text'].str.strip() != '']\n",
        "\n",
        "# Show new shape after cleaning\n",
        "print(f\"Dataset shape after cleaning: {df.shape}\")"
      ],
      "metadata": {
        "colab": {
          "base_uri": "https://localhost:8080/"
        },
        "id": "iai0gLKyvO3x",
        "outputId": "bf9c1b3c-39a3-4a0a-dfbb-6961946f0875"
      },
      "execution_count": 5,
      "outputs": [
        {
          "output_type": "stream",
          "name": "stdout",
          "text": [
            "Columns: Index(['Unnamed: 0', 'text', 'label'], dtype='object')\n",
            "Missing values per column:\n",
            "Unnamed: 0    0\n",
            "text          0\n",
            "label         1\n",
            "dtype: int64\n",
            "Dataset shape after cleaning: (39153, 3)\n"
          ]
        }
      ]
    },
    {
      "cell_type": "markdown",
      "source": [
        "## 3. Exploratory Data Analysis (EDA) <a name=\"exploratory-data-analysis\"></a>\n",
        "\n",
        "Here we examine:\n",
        "- Class distribution\n",
        "- Most common words per emotion\n",
        "- Confusing emotions\n",
        "- Tweet length distribution per emotion\n",
        "\n",
        "We visualize relevant insights using bar charts, box plots, and word clouds."
      ],
      "metadata": {
        "id": "fQDK0IdGwR01"
      }
    },
    {
      "cell_type": "code",
      "source": [
        "# Define label-to-emotion mapping based on known dataset structure\n",
        "label_map = {\n",
        "    0: 'sadness',\n",
        "    1: 'joy',\n",
        "    2: 'love',\n",
        "    3: 'anger',\n",
        "    4: 'fear',\n",
        "    5: 'surprise'\n",
        "}\n",
        "\n",
        "# Create a new column with emotion names instead of numeric labels\n",
        "df['emotion'] = df['label'].map(label_map)\n",
        "\n",
        "# Preview the mapping to make sure it worked\n",
        "print(df[['label', 'emotion']].head())"
      ],
      "metadata": {
        "colab": {
          "base_uri": "https://localhost:8080/"
        },
        "id": "xOtp7qNDxV5i",
        "outputId": "1364dc43-ec19-4598-c3d9-87a8efdee611"
      },
      "execution_count": 6,
      "outputs": [
        {
          "output_type": "stream",
          "name": "stdout",
          "text": [
            "   label  emotion\n",
            "0    4.0     fear\n",
            "1    0.0  sadness\n",
            "2    4.0     fear\n",
            "3    0.0  sadness\n",
            "4    4.0     fear\n"
          ]
        }
      ]
    },
    {
      "cell_type": "code",
      "source": [
        "import seaborn as sns\n",
        "import matplotlib.pyplot as plt\n",
        "\n",
        "# Count the number of examples per emotion\n",
        "emotion_counts = df['emotion'].value_counts()\n",
        "\n",
        "# Plot a bar chart of emotion distribution\n",
        "plt.figure(figsize=(10, 5))\n",
        "sns.barplot(x=emotion_counts.index, y=emotion_counts.values, hue=emotion_counts.index, palette=\"Set2\", legend=False)\n",
        "plt.title(\"Number of Tweets per Emotion\")\n",
        "plt.ylabel(\"Count\")\n",
        "plt.xlabel(\"Emotion\")\n",
        "plt.xticks(rotation=45)\n",
        "plt.grid(axis='y')\n",
        "plt.show()\n",
        "\n",
        "# Add a new column for text length\n",
        "df['text_length'] = df['text'].apply(len)\n",
        "\n",
        "# Plot a boxplot of tweet length per emotion\n",
        "plt.figure(figsize=(10, 5))\n",
        "sns.boxplot(x='emotion', y='text_length', data=df, hue='emotion', palette=\"Set3\", legend=False)\n",
        "plt.title(\"Tweet Length by Emotion\")\n",
        "plt.ylabel(\"Number of Characters\")\n",
        "plt.xlabel(\"Emotion\")\n",
        "plt.xticks(rotation=45)\n",
        "plt.grid(axis='y')\n",
        "plt.show()\n"
      ],
      "metadata": {
        "colab": {
          "base_uri": "https://localhost:8080/",
          "height": 1000
        },
        "id": "CQDFw2NlwV5Y",
        "outputId": "d20d58e3-104b-48b9-e2d9-70f0360c3ba6"
      },
      "execution_count": 7,
      "outputs": [
        {
          "output_type": "display_data",
          "data": {
            "text/plain": [
              "<Figure size 1000x500 with 1 Axes>"
            ],
            "image/png": "[encoded data removed]"
          },
          "metadata": {}
        },
        {
          "output_type": "display_data",
          "data": {
            "text/plain": [
              "<Figure size 1000x500 with 1 Axes>"
            ],
            "image/png": "[encoded data removed]"
          },
          "metadata": {}
        }
      ]
    },
    {
      "cell_type": "markdown",
      "source": [
        "## 4. Feature Extraction: TF-IDF <a name=\"feature-extraction\"></a>\n",
        "\n",
        "We transform the text into numerical vectors using TF-IDF,  \n",
        "which captures term importance across the dataset."
      ],
      "metadata": {
        "id": "Ex-Y9xnHwUMz"
      }
    },
    {
      "cell_type": "code",
      "source": [
        "from sklearn.feature_extraction.text import TfidfVectorizer\n",
        "\n",
        "# Initialize the TF-IDF vectorizer\n",
        "tfidf = TfidfVectorizer(max_features=10000, stop_words='english')\n",
        "\n",
        "# Fit and transform the text data into a sparse matrix\n",
        "X = tfidf.fit_transform(df['text'])\n",
        "\n",
        "# The labels for classification\n",
        "y = df['emotion']\n",
        "\n",
        "# Check the shape: (number of tweets, number of words/features)\n",
        "print(f\"TF-IDF matrix shape: {X.shape}\")\n"
      ],
      "metadata": {
        "colab": {
          "base_uri": "https://localhost:8080/"
        },
        "id": "ni1y42p3zBfl",
        "outputId": "a6914186-3eed-4a35-f33b-b98a7b08581a"
      },
      "execution_count": 8,
      "outputs": [
        {
          "output_type": "stream",
          "name": "stdout",
          "text": [
            "TF-IDF matrix shape: (39153, 10000)\n"
          ]
        }
      ]
    },
    {
      "cell_type": "code",
      "source": [
        "# Choose a sample tweet (e.g., row 0)\n",
        "tweet_index = 0\n",
        "\n",
        "# Get the feature names (words) from the vectorizer\n",
        "feature_names = tfidf.get_feature_names_out()\n",
        "\n",
        "# Get the TF-IDF vector for the specific tweet\n",
        "vector = X[tweet_index]\n",
        "\n",
        "# Convert the sparse vector to a dense array\n",
        "dense_vector = vector.toarray().flatten()\n",
        "\n",
        "# Combine words with their TF-IDF scores\n",
        "word_scores = list(zip(feature_names, dense_vector))\n",
        "\n",
        "# Filter only non-zero scores (words that appear in the tweet)\n",
        "non_zero_scores = [(word, round(score, 3)) for word, score in word_scores if score > 0]\n",
        "\n",
        "# Sort by TF-IDF score, descending\n",
        "non_zero_scores = sorted(non_zero_scores, key=lambda x: x[1], reverse=True)\n",
        "\n",
        "# Print the actual tweet\n",
        "print(\"Tweet text:\")\n",
        "print(df.iloc[tweet_index]['text'])\n",
        "\n",
        "# Print the words and their TF-IDF values\n",
        "print(\"\\nWords in TF-IDF (non-zero only):\")\n",
        "for word, score in non_zero_scores:\n",
        "    print(f\"{word}: {score}\")\n"
      ],
      "metadata": {
        "colab": {
          "base_uri": "https://localhost:8080/"
        },
        "id": "U1S2Cb8qzqKc",
        "outputId": "da1455a4-7acf-4464-e615-bc593000b354"
      },
      "execution_count": 9,
      "outputs": [
        {
          "output_type": "stream",
          "name": "stdout",
          "text": [
            "Tweet text:\n",
            "i just feel really helpless and heavy hearted\n",
            "\n",
            "Words in TF-IDF (non-zero only):\n",
            "hearted: 0.624\n",
            "heavy: 0.546\n",
            "helpless: 0.418\n",
            "really: 0.267\n",
            "just: 0.24\n",
            "feel: 0.098\n"
          ]
        }
      ]
    },
    {
      "cell_type": "markdown",
      "source": [
        "## 5. Model 1: Support Vector Machine (SVM) <a name=\"svm\"></a>\n",
        "\n",
        "We train an SVM classifier using the TF-IDF features.  \n",
        "We evaluate performance using classification metrics and a confusion matrix."
      ],
      "metadata": {
        "id": "-RnVWX-kwX1g"
      }
    },
    {
      "cell_type": "code",
      "source": [
        "from sklearn.model_selection import train_test_split\n",
        "from sklearn.svm import LinearSVC\n",
        "from sklearn.metrics import classification_report, confusion_matrix\n",
        "import seaborn as sns\n",
        "import matplotlib.pyplot as plt\n",
        "\n",
        "# Split the data into training and testing sets\n",
        "X_train, X_test, y_train, y_test = train_test_split(X, y, test_size=0.2, random_state=42, stratify=y)\n",
        "\n",
        "# Initialize and train the SVM model\n",
        "svm_model = LinearSVC()\n",
        "svm_model.fit(X_train, y_train)\n",
        "\n",
        "# Predict on the test set\n",
        "y_pred = svm_model.predict(X_test)\n",
        "\n",
        "# Print classification metrics\n",
        "print(classification_report(y_test, y_pred))\n",
        "\n",
        "# Plot confusion matrix\n",
        "cm = confusion_matrix(y_test, y_pred, labels=svm_model.classes_)\n",
        "plt.figure(figsize=(8, 6))\n",
        "sns.heatmap(cm, annot=True, fmt='d', xticklabels=svm_model.classes_, yticklabels=svm_model.classes_, cmap='Blues')\n",
        "plt.xlabel('Predicted')\n",
        "plt.ylabel('True')\n",
        "plt.title('Confusion Matrix - SVM')\n",
        "plt.show()\n"
      ],
      "metadata": {
        "colab": {
          "base_uri": "https://localhost:8080/",
          "height": 790
        },
        "id": "dN4GECSh0IIU",
        "outputId": "15ae2e00-eb02-49b5-e76a-a1aafcbe7258"
      },
      "execution_count": 10,
      "outputs": [
        {
          "output_type": "stream",
          "name": "stdout",
          "text": [
            "              precision    recall  f1-score   support\n",
            "\n",
            "       anger       0.91      0.87      0.89      1067\n",
            "        fear       0.86      0.86      0.86       883\n",
            "         joy       0.90      0.93      0.91      2646\n",
            "        love       0.79      0.75      0.77       634\n",
            "     sadness       0.93      0.93      0.93      2311\n",
            "    surprise       0.76      0.72      0.74       290\n",
            "\n",
            "    accuracy                           0.89      7831\n",
            "   macro avg       0.86      0.84      0.85      7831\n",
            "weighted avg       0.89      0.89      0.89      7831\n",
            "\n"
          ]
        },
        {
          "output_type": "display_data",
          "data": {
            "text/plain": [
              "<Figure size 800x600 with 2 Axes>"
            ],
            "image/png": "[encoded data removed]"
          },
          "metadata": {}
        }
      ]
    },
    {
      "cell_type": "code",
      "source": [
        "import random\n",
        "\n",
        "# Choose random indices from the test set\n",
        "random_indices = random.sample(range(X_test.shape[0]), 10)\n",
        "\n",
        "for idx in random_indices:\n",
        "    true_label = y_test.iloc[idx]\n",
        "    predicted_label = y_pred[idx]\n",
        "    text = df.iloc[y_test.index[idx]]['text']\n",
        "\n",
        "    print(\"Tweet:\", text)\n",
        "    print(f\"True Emotion: {true_label} | Predicted: {predicted_label}\")\n",
        "    print(\"-\" * 80)\n"
      ],
      "metadata": {
        "colab": {
          "base_uri": "https://localhost:8080/"
        },
        "id": "rcUoKk6U1ILX",
        "outputId": "eb7a9dee-e7b5-4dc3-8923-bc8adbf53beb"
      },
      "execution_count": 13,
      "outputs": [
        {
          "output_type": "stream",
          "name": "stdout",
          "text": [
            "Tweet: i give you plenty of attention even when i feel utterly miserable\n",
            "True Emotion: sadness | Predicted: sadness\n",
            "--------------------------------------------------------------------------------\n",
            "Tweet: i hate this feeling when youre troubled by so many problems\n",
            "True Emotion: sadness | Predicted: sadness\n",
            "--------------------------------------------------------------------------------\n",
            "Tweet: i feel like all things that ive ever been fearful of in my entire life are about to spill onto the streets and leave me stark naked to the world i say to myself geez i need to release\n",
            "True Emotion: fear | Predicted: fear\n",
            "--------------------------------------------------------------------------------\n",
            "Tweet: i feel petty and small in saying that to you though\n",
            "True Emotion: anger | Predicted: anger\n",
            "--------------------------------------------------------------------------------\n",
            "Tweet: i courtney who i feel is a talented actor with a tremendous future ahead of him\n",
            "True Emotion: joy | Predicted: joy\n",
            "--------------------------------------------------------------------------------\n",
            "Tweet: i feel isolated as though i am observing\n",
            "True Emotion: sadness | Predicted: sadness\n",
            "--------------------------------------------------------------------------------\n",
            "Tweet: i always start blogs and then kinda get over them in about a month because i feel as if my life is kind of boring ha\n",
            "True Emotion: sadness | Predicted: sadness\n",
            "--------------------------------------------------------------------------------\n",
            "Tweet: i am still gonna be feeling awkward about it for a while\n",
            "True Emotion: sadness | Predicted: sadness\n",
            "--------------------------------------------------------------------------------\n",
            "Tweet: i feel stressed i m in the bathroom running the water for my bath\n",
            "True Emotion: anger | Predicted: anger\n",
            "--------------------------------------------------------------------------------\n",
            "Tweet: i am now feeling surprised that i am nearing the end of my days\n",
            "True Emotion: surprise | Predicted: surprise\n",
            "--------------------------------------------------------------------------------\n"
          ]
        }
      ]
    },
    {
      "cell_type": "markdown",
      "source": [
        "## 6. Model Comparison <a name=\"model-comparison\"></a>\n",
        "\n",
        "We compare the models using:\n",
        "- Accuracy\n",
        "- F1-score (macro & weighted)\n",
        "- Confusion matrices\n",
        "- Training time (optional)"
      ],
      "metadata": {
        "id": "pM24MlwTweZ7"
      }
    },
    {
      "cell_type": "markdown",
      "source": [
        "## 7. Conclusion and Discussion <a name=\"conclusion\"></a>\n",
        "\n",
        "We reflect on:\n",
        "- What worked well\n",
        "- What didn’t work\n",
        "- Why some emotions were harder to classify\n",
        "- Challenges during the project\n",
        "- Ideas for improvement or future work"
      ],
      "metadata": {
        "id": "pP1YwOunwgUS"
      }
    }
  ]
}